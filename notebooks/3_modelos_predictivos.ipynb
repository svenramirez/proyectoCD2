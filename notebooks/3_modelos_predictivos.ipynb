{
 "cells": [
  {
   "cell_type": "markdown",
   "metadata": {},
   "source": [
    "# Implementación de Modelos Predictivos - Precios de Aguacate\n",
    "\n",
    "## 1. Preparación de Datos para Modelado"
   ]
  },
  {
   "cell_type": "code",
   "execution_count": 12,
   "metadata": {},
   "outputs": [],
   "source": [
    "\n",
    "# Importar librerías\n",
    "import pandas as pd\n",
    "import numpy as np\n",
    "import matplotlib.pyplot as plt\n",
    "from sklearn.model_selection import train_test_split\n",
    "from sklearn.preprocessing import StandardScaler\n",
    "from sklearn.linear_model import LinearRegression\n",
    "from sklearn.neural_network import MLPRegressor\n",
    "from sklearn.metrics import mean_squared_error, r2_score\n",
    "\n",
    "\n",
    "# Cargar dataset limpio\n",
    "avocado = pd.read_csv('../data/avocado_clean.csv')\n",
    "\n",
    "# Separar features y target\n",
    "X = avocado.drop('AveragePrice', axis=1)\n",
    "y = avocado['AveragePrice']\n",
    "\n",
    "# Dividir en train (70%) y test (30%)\n",
    "X_train, X_test, y_train, y_test = train_test_split(X, y, test_size=0.3, random_state=42)\n",
    "\n",
    "# Escalar features (excepto variables ya codificadas)\n",
    "scaler = StandardScaler()\n",
    "cols_to_scale = [col for col in X.columns if col not in ['organic', 'region_encoded']]\n",
    "X_train[cols_to_scale] = scaler.fit_transform(X_train[cols_to_scale])\n",
    "X_test[cols_to_scale] = scaler.transform(X_test[cols_to_scale])\n"
   ]
  },
  {
   "cell_type": "markdown",
   "metadata": {},
   "source": [
    "## 2. Modelo 1: Regresión Lineal\n",
    "\n",
    "### Implementación"
   ]
  },
  {
   "cell_type": "code",
   "execution_count": 13,
   "metadata": {},
   "outputs": [
    {
     "name": "stdout",
     "output_type": "stream",
     "text": [
      "Regresión Lineal:\n",
      "MSE: 0.0852\n",
      "R²: 0.4716\n"
     ]
    }
   ],
   "source": [
    "from sklearn.linear_model import LinearRegression\n",
    "from sklearn.metrics import mean_squared_error, r2_score\n",
    "\n",
    "# Crear y entrenar modelo\n",
    "lr = LinearRegression()\n",
    "lr.fit(X_train, y_train)\n",
    "\n",
    "# Predecir y evaluar\n",
    "y_pred_lr = lr.predict(X_test)\n",
    "mse_lr = mean_squared_error(y_test, y_pred_lr)\n",
    "r2_lr = r2_score(y_test, y_pred_lr)\n",
    "\n",
    "print(\"Regresión Lineal:\")\n",
    "print(f\"MSE: {mse_lr:.4f}\")\n",
    "print(f\"R²: {r2_lr:.4f}\")"
   ]
  },
  {
   "cell_type": "markdown",
   "metadata": {},
   "source": [
    "## 3. Modelo 2: K-Nearest Neighbors (KNN) para Clasificación\n",
    "\n",
    "### Transformación a Problema de Clasificación\n"
   ]
  },
  {
   "cell_type": "code",
   "execution_count": 14,
   "metadata": {},
   "outputs": [
    {
     "name": "stdout",
     "output_type": "stream",
     "text": [
      "\n",
      "KNN (Clasificación):\n",
      "Accuracy: 0.8216\n",
      "F1-Score: 0.8202\n"
     ]
    }
   ],
   "source": [
    "# Convertir precio en categorías (bajo, medio, alto)\n",
    "y_train_cls = pd.cut(y_train, bins=3, labels=['bajo', 'medio', 'alto'])\n",
    "y_test_cls = pd.cut(y_test, bins=3, labels=['bajo', 'medio', 'alto'])\n",
    "\n",
    "# Implementación KNN\n",
    "from sklearn.neighbors import KNeighborsClassifier\n",
    "from sklearn.metrics import accuracy_score, f1_score\n",
    "\n",
    "knn = KNeighborsClassifier(n_neighbors=5)\n",
    "knn.fit(X_train, y_train_cls)\n",
    "\n",
    "# Evaluación\n",
    "y_pred_knn = knn.predict(X_test)\n",
    "acc_knn = accuracy_score(y_test_cls, y_pred_knn)\n",
    "f1_knn = f1_score(y_test_cls, y_pred_knn, average='weighted')\n",
    "\n",
    "print(\"\\nKNN (Clasificación):\")\n",
    "print(f\"Accuracy: {acc_knn:.4f}\")\n",
    "print(f\"F1-Score: {f1_knn:.4f}\")"
   ]
  }
 ],
 "metadata": {
  "kernelspec": {
   "display_name": "Python 3",
   "language": "python",
   "name": "python3"
  },
  "language_info": {
   "codemirror_mode": {
    "name": "ipython",
    "version": 3
   },
   "file_extension": ".py",
   "mimetype": "text/x-python",
   "name": "python",
   "nbconvert_exporter": "python",
   "pygments_lexer": "ipython3",
   "version": "3.11.2"
  }
 },
 "nbformat": 4,
 "nbformat_minor": 2
}
