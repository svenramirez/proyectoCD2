{
 "cells": [
  {
   "cell_type": "markdown",
   "metadata": {},
   "source": [
    "## Limpieza y Normalización de Datos - Precios de Aguacate"
   ]
  },
  {
   "cell_type": "code",
   "execution_count": 1,
   "metadata": {},
   "outputs": [
    {
     "name": "stdout",
     "output_type": "stream",
     "text": [
      "['Solarize_Light2', '_classic_test_patch', '_mpl-gallery', '_mpl-gallery-nogrid', 'bmh', 'classic', 'dark_background', 'fast', 'fivethirtyeight', 'ggplot', 'grayscale', 'petroff10', 'seaborn-v0_8', 'seaborn-v0_8-bright', 'seaborn-v0_8-colorblind', 'seaborn-v0_8-dark', 'seaborn-v0_8-dark-palette', 'seaborn-v0_8-darkgrid', 'seaborn-v0_8-deep', 'seaborn-v0_8-muted', 'seaborn-v0_8-notebook', 'seaborn-v0_8-paper', 'seaborn-v0_8-pastel', 'seaborn-v0_8-poster', 'seaborn-v0_8-talk', 'seaborn-v0_8-ticks', 'seaborn-v0_8-white', 'seaborn-v0_8-whitegrid', 'tableau-colorblind10']\n"
     ]
    }
   ],
   "source": [
    "# Importar librerías\n",
    "import pandas as pd\n",
    "import numpy as np\n",
    "import seaborn as sns\n",
    "from sklearn.preprocessing import StandardScaler\n",
    "from sklearn.model_selection import train_test_split\n",
    "import matplotlib.pyplot as plt\n",
    "print(plt.style.available)\n",
    "\n",
    "\n",
    "plt.style.use('seaborn-v0_8')\n",
    "\n",
    "# Cargar datos\n",
    "avocado = pd.read_csv('../data/avocado.csv')\n"
   ]
  },
  {
   "cell_type": "markdown",
   "metadata": {},
   "source": [
    "### 1. Manejo de valores nulos\n",
    "\n",
    "Verificar valores nulos\n",
    "**Si hubiera valores nulos (en este dataset no hay), aplicaríamos:** <br>\n",
    "*(Aunque el dataset actual no contiene nulos, se establece el siguiente protocolo:)*\n",
    "\n",
    "- **Numéricas:**\n",
    "  - Imputación con mediana (robusta a outliers) o media.\n",
    "\n",
    "- **Categóricas:**\n",
    "  - Imputación con moda o \"Desconocido\""
   ]
  },
  {
   "cell_type": "code",
   "execution_count": 2,
   "metadata": {},
   "outputs": [
    {
     "data": {
      "text/html": [
       "<div>\n",
       "<style scoped>\n",
       "    .dataframe tbody tr th:only-of-type {\n",
       "        vertical-align: middle;\n",
       "    }\n",
       "\n",
       "    .dataframe tbody tr th {\n",
       "        vertical-align: top;\n",
       "    }\n",
       "\n",
       "    .dataframe thead th {\n",
       "        text-align: right;\n",
       "    }\n",
       "</style>\n",
       "<table border=\"1\" class=\"dataframe\">\n",
       "  <thead>\n",
       "    <tr style=\"text-align: right;\">\n",
       "      <th></th>\n",
       "      <th>Valores Nulos</th>\n",
       "      <th>Porcentaje (%)</th>\n",
       "    </tr>\n",
       "  </thead>\n",
       "  <tbody>\n",
       "    <tr>\n",
       "      <th>Unnamed: 0</th>\n",
       "      <td>0</td>\n",
       "      <td>0.0</td>\n",
       "    </tr>\n",
       "    <tr>\n",
       "      <th>Date</th>\n",
       "      <td>0</td>\n",
       "      <td>0.0</td>\n",
       "    </tr>\n",
       "    <tr>\n",
       "      <th>AveragePrice</th>\n",
       "      <td>0</td>\n",
       "      <td>0.0</td>\n",
       "    </tr>\n",
       "    <tr>\n",
       "      <th>Total Volume</th>\n",
       "      <td>0</td>\n",
       "      <td>0.0</td>\n",
       "    </tr>\n",
       "    <tr>\n",
       "      <th>4046</th>\n",
       "      <td>0</td>\n",
       "      <td>0.0</td>\n",
       "    </tr>\n",
       "    <tr>\n",
       "      <th>4225</th>\n",
       "      <td>0</td>\n",
       "      <td>0.0</td>\n",
       "    </tr>\n",
       "    <tr>\n",
       "      <th>4770</th>\n",
       "      <td>0</td>\n",
       "      <td>0.0</td>\n",
       "    </tr>\n",
       "    <tr>\n",
       "      <th>Total Bags</th>\n",
       "      <td>0</td>\n",
       "      <td>0.0</td>\n",
       "    </tr>\n",
       "    <tr>\n",
       "      <th>Small Bags</th>\n",
       "      <td>0</td>\n",
       "      <td>0.0</td>\n",
       "    </tr>\n",
       "    <tr>\n",
       "      <th>Large Bags</th>\n",
       "      <td>0</td>\n",
       "      <td>0.0</td>\n",
       "    </tr>\n",
       "    <tr>\n",
       "      <th>XLarge Bags</th>\n",
       "      <td>0</td>\n",
       "      <td>0.0</td>\n",
       "    </tr>\n",
       "    <tr>\n",
       "      <th>type</th>\n",
       "      <td>0</td>\n",
       "      <td>0.0</td>\n",
       "    </tr>\n",
       "    <tr>\n",
       "      <th>year</th>\n",
       "      <td>0</td>\n",
       "      <td>0.0</td>\n",
       "    </tr>\n",
       "    <tr>\n",
       "      <th>region</th>\n",
       "      <td>0</td>\n",
       "      <td>0.0</td>\n",
       "    </tr>\n",
       "  </tbody>\n",
       "</table>\n",
       "</div>"
      ],
      "text/plain": [
       "              Valores Nulos  Porcentaje (%)\n",
       "Unnamed: 0                0             0.0\n",
       "Date                      0             0.0\n",
       "AveragePrice              0             0.0\n",
       "Total Volume              0             0.0\n",
       "4046                      0             0.0\n",
       "4225                      0             0.0\n",
       "4770                      0             0.0\n",
       "Total Bags                0             0.0\n",
       "Small Bags                0             0.0\n",
       "Large Bags                0             0.0\n",
       "XLarge Bags               0             0.0\n",
       "type                      0             0.0\n",
       "year                      0             0.0\n",
       "region                    0             0.0"
      ]
     },
     "execution_count": 2,
     "metadata": {},
     "output_type": "execute_result"
    }
   ],
   "source": [
    "# Verificar valores nulos en el dataset\n",
    "null_counts = avocado.isnull().sum()\n",
    "null_percentage = (avocado.isnull().mean() * 100).round(2)\n",
    "\n",
    "pd.DataFrame({\n",
    "    'Valores Nulos': null_counts,\n",
    "    'Porcentaje (%)': null_percentage\n",
    "}).sort_values(by='Porcentaje (%)', ascending=False)"
   ]
  },
  {
   "cell_type": "markdown",
   "metadata": {},
   "source": [
    "### Tratamiento de Valores Atípicos\n",
    "Identificación con IQR"
   ]
  },
  {
   "cell_type": "code",
   "execution_count": 3,
   "metadata": {},
   "outputs": [
    {
     "name": "stdout",
     "output_type": "stream",
     "text": [
      "Número de outliers en Total Volume: 2297\n"
     ]
    }
   ],
   "source": [
    "def detect_outliers(df, column):\n",
    "    Q1 = df[column].quantile(0.25)\n",
    "    Q3 = df[column].quantile(0.75)\n",
    "    IQR = Q3 - Q1\n",
    "    lower_bound = Q1 - 1.5 * IQR\n",
    "    upper_bound = Q3 + 1.5 * IQR\n",
    "    return df[(df[column] < lower_bound) | (df[column] > upper_bound)]\n",
    "outliers = detect_outliers(avocado, 'Total Volume')\n",
    "print(f\"Número de outliers en Total Volume: {len(outliers)}\")\n"
   ]
  },
  {
   "cell_type": "markdown",
   "metadata": {},
   "source": [
    "### Estrategias de Tratamiento\n",
    "**Justificación:** <br>\n",
    "• Transformación logarítmica: Ideal para datos con escala exponencial (preserva el orden sin eliminar datos).  \n",
    "• Winsorization: Útil cuando se necesitan valores originales pero acotados."
   ]
  },
  {
   "cell_type": "code",
   "execution_count": 4,
   "metadata": {},
   "outputs": [
    {
     "data": {
      "image/png": "[encoded data removed]",
      "text/plain": [
       "<Figure size 1800x500 with 3 Axes>"
      ]
     },
     "metadata": {},
     "output_type": "display_data"
    }
   ],
   "source": [
    "# Opción 1: Transformación logarítmica (recomendada para volúmenes)\n",
    "avocado['Total Volume_log'] = np.log1p(avocado['Total Volume'])\n",
    "\n",
    "# Opción 2: Winsorization (limitar extremos)\n",
    "from scipy.stats.mstats import winsorize\n",
    "avocado['Total Volume_winsorized'] = winsorize(avocado['Total Volume'], limits=[0.05, 0.05])\n",
    "\n",
    "# Comparación visual\n",
    "fig, axes = plt.subplots(1, 3, figsize=(18, 5))\n",
    "sns.boxplot(y=avocado['Total Volume'], ax=axes[0]).set_title('Original')\n",
    "sns.boxplot(y=avocado['Total Volume_log'], ax=axes[1]).set_title('Log Transform')\n",
    "sns.boxplot(y=avocado['Total Volume_winsorized'], ax=axes[2]).set_title('Winsorized')\n",
    "plt.show()"
   ]
  },
  {
   "cell_type": "markdown",
   "metadata": {},
   "source": [
    "## 3. Transformación de variables categóricas\n",
    "### Convertir tipo a dummy"
   ]
  },
  {
   "cell_type": "code",
   "execution_count": 5,
   "metadata": {},
   "outputs": [],
   "source": [
    "avocado = pd.get_dummies(avocado, columns=['type'], drop_first=True)"
   ]
  },
  {
   "cell_type": "markdown",
   "metadata": {},
   "source": [
    "### Convertir fecha a características numéricas"
   ]
  },
  {
   "cell_type": "code",
   "execution_count": 6,
   "metadata": {},
   "outputs": [],
   "source": [
    "# Convertir fecha a características numéricas\n",
    "avocado['Date'] = pd.to_datetime(avocado['Date'])\n",
    "avocado['month'] = avocado['Date'].dt.month\n",
    "avocado['day_of_week'] = avocado['Date'].dt.dayofweek\n",
    "avocado.drop('Date', axis=1, inplace=True)"
   ]
  },
  {
   "cell_type": "markdown",
   "metadata": {},
   "source": [
    "### Codificación one-hot para region (simplificada)"
   ]
  },
  {
   "cell_type": "code",
   "execution_count": 7,
   "metadata": {},
   "outputs": [],
   "source": [
    "top_regions = avocado['region'].value_counts().nlargest(10).index\n",
    "avocado['region'] = avocado['region'].apply(lambda x: x if x in top_regions else 'Other')\n",
    "avocado = pd.get_dummies(avocado, columns=['region'], drop_first=True)"
   ]
  },
  {
   "cell_type": "markdown",
   "metadata": {},
   "source": [
    "## Normalizacion\n"
   ]
  },
  {
   "cell_type": "code",
   "execution_count": 8,
   "metadata": {},
   "outputs": [],
   "source": [
    "cols_to_scale = ['Total Volume', '4046', '4225', '4770', \n",
    "                'Total Bags', 'Small Bags', 'Large Bags', 'XLarge Bags']\n",
    "\n",
    "scaler = StandardScaler()\n",
    "avocado[cols_to_scale] = scaler.fit_transform(avocado[cols_to_scale])"
   ]
  },
  {
   "cell_type": "markdown",
   "metadata": {},
   "source": [
    "## Guardar datos limpios"
   ]
  },
  {
   "cell_type": "code",
   "execution_count": 9,
   "metadata": {},
   "outputs": [
    {
     "name": "stdout",
     "output_type": "stream",
     "text": [
      "Datos limpios guardados exitosamente!\n"
     ]
    }
   ],
   "source": [
    "avocado.to_csv('../data/avocado_clean.csv', index=False)\n",
    "print(\"Datos limpios guardados exitosamente!\")"
   ]
  }
 ],
 "metadata": {
  "kernelspec": {
   "display_name": "Python 3",
   "language": "python",
   "name": "python3"
  },
  "language_info": {
   "codemirror_mode": {
    "name": "ipython",
    "version": 3
   },
   "file_extension": ".py",
   "mimetype": "text/x-python",
   "name": "python",
   "nbconvert_exporter": "python",
   "pygments_lexer": "ipython3",
   "version": "3.13.3"
  }
 },
 "nbformat": 4,
 "nbformat_minor": 2
}
