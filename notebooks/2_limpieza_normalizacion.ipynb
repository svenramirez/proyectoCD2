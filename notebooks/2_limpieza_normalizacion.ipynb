{
 "cells": [
  {
   "cell_type": "code",
   "execution_count": 2,
   "metadata": {},
   "outputs": [
    {
     "name": "stdout",
     "output_type": "stream",
     "text": [
      "Número de outliers en Total Volume: 2297\n",
      "Datos limpios guardados exitosamente!\n"
     ]
    }
   ],
   "source": [
    "# %% [markdown]\n",
    "# # Limpieza y Normalización de Datos - Precios de Aguacate\n",
    "\n",
    "# %%\n",
    "# Importar librerías\n",
    "import pandas as pd\n",
    "import numpy as np\n",
    "from sklearn.preprocessing import StandardScaler\n",
    "from sklearn.model_selection import train_test_split\n",
    "\n",
    "# Cargar datos\n",
    "avocado = pd.read_csv('../data/avocado.csv')\n",
    "\n",
    "# %% [markdown]\n",
    "# ## 1. Manejo de valores nulos\n",
    "# %%\n",
    "# Verificar valores nulos\n",
    "avocado.isnull().sum()\n",
    "\n",
    "# %% [markdown]\n",
    "# ## 2. Tratamiento de outliers\n",
    "# %%\n",
    "# Función para identificar outliers\n",
    "def detect_outliers(df, column):\n",
    "    Q1 = df[column].quantile(0.25)\n",
    "    Q3 = df[column].quantile(0.75)\n",
    "    IQR = Q3 - Q1\n",
    "    lower_bound = Q1 - 1.5 * IQR\n",
    "    upper_bound = Q3 + 1.5 * IQR\n",
    "    return df[(df[column] < lower_bound) | (df[column] > upper_bound)]\n",
    "\n",
    "# Identificar outliers en volumen total\n",
    "outliers = detect_outliers(avocado, 'Total Volume')\n",
    "print(f\"Número de outliers en Total Volume: {len(outliers)}\")\n",
    "\n",
    "# %% [markdown]\n",
    "# ## 3. Transformación de variables categóricas\n",
    "# %%\n",
    "# Convertir tipo a dummy\n",
    "avocado = pd.get_dummies(avocado, columns=['type'], drop_first=True)\n",
    "\n",
    "# Convertir fecha a características numéricas\n",
    "avocado['Date'] = pd.to_datetime(avocado['Date'])\n",
    "avocado['month'] = avocado['Date'].dt.month\n",
    "avocado['day_of_week'] = avocado['Date'].dt.dayofweek\n",
    "avocado.drop('Date', axis=1, inplace=True)\n",
    "\n",
    "# Codificación one-hot para region (simplificada)\n",
    "top_regions = avocado['region'].value_counts().nlargest(10).index\n",
    "avocado['region'] = avocado['region'].apply(lambda x: x if x in top_regions else 'Other')\n",
    "avocado = pd.get_dummies(avocado, columns=['region'], drop_first=True)\n",
    "\n",
    "# %% [markdown]\n",
    "# ## 4. Normalización\n",
    "# %%\n",
    "# Variables a normalizar\n",
    "cols_to_scale = ['Total Volume', '4046', '4225', '4770', \n",
    "                'Total Bags', 'Small Bags', 'Large Bags', 'XLarge Bags']\n",
    "\n",
    "scaler = StandardScaler()\n",
    "avocado[cols_to_scale] = scaler.fit_transform(avocado[cols_to_scale])\n",
    "\n",
    "# %% [markdown]\n",
    "# ## 5. Guardar datos limpios\n",
    "# %%\n",
    "avocado.to_csv('../data/avocado_clean.csv', index=False)\n",
    "print(\"Datos limpios guardados exitosamente!\")"
   ]
  }
 ],
 "metadata": {
  "kernelspec": {
   "display_name": "Python 3",
   "language": "python",
   "name": "python3"
  },
  "language_info": {
   "codemirror_mode": {
    "name": "ipython",
    "version": 3
   },
   "file_extension": ".py",
   "mimetype": "text/x-python",
   "name": "python",
   "nbconvert_exporter": "python",
   "pygments_lexer": "ipython3",
   "version": "3.11.2"
  }
 },
 "nbformat": 4,
 "nbformat_minor": 2
}
